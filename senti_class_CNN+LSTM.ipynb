{
  "nbformat": 4,
  "nbformat_minor": 0,
  "metadata": {
    "colab": {
      "name": "senti-class-CNN+LSTM",
      "provenance": []
    },
    "kernelspec": {
      "name": "python3",
      "display_name": "Python 3"
    },
    "language_info": {
      "name": "python"
    },
    "accelerator": "GPU"
  },
  "cells": [
    {
      "cell_type": "code",
      "metadata": {
        "id": "g-Xr6j51sfMX"
      },
      "source": [
        ""
      ],
      "execution_count": null,
      "outputs": []
    },
    {
      "cell_type": "markdown",
      "metadata": {
        "id": "a6tz4vb9vWvg"
      },
      "source": [
        "### In this learning class I am going to explore the extent of using CNN for feature extraction and then feeding it to LSTM for classification of the movie review data \n",
        "### training the model for 50 epochs in GPU and with being the optimizer "
      ]
    },
    {
      "cell_type": "code",
      "metadata": {
        "id": "cDQGfye8sfO9"
      },
      "source": [
        "import numpy\n",
        "from keras.datasets import imdb\n",
        "from keras.models import Sequential\n",
        "from keras.layers import Dense\n",
        "from keras.layers import LSTM\n",
        "from keras.layers.convolutional import Conv1D\n",
        "from keras.layers.convolutional import MaxPooling1D\n",
        "from keras.layers.embeddings import Embedding\n",
        "from keras.preprocessing import sequence "
      ],
      "execution_count": 1,
      "outputs": []
    },
    {
      "cell_type": "code",
      "metadata": {
        "id": "IvmwOGoWsfSW"
      },
      "source": [
        "# fixing random seed for reproducibility\n",
        "\n",
        "numpy.random.seed(7)"
      ],
      "execution_count": 2,
      "outputs": []
    },
    {
      "cell_type": "code",
      "metadata": {
        "id": "KW0FoHtpsfVg"
      },
      "source": [
        "top_words = 5000"
      ],
      "execution_count": 3,
      "outputs": []
    },
    {
      "cell_type": "code",
      "metadata": {
        "colab": {
          "base_uri": "https://localhost:8080/"
        },
        "id": "MrX8LotDtsAZ",
        "outputId": "ec7a1efb-a2be-434d-d12e-70febc3d90fb"
      },
      "source": [
        "(X_train, y_train), (X_test, y_test) = imdb.load_data(num_words=top_words)"
      ],
      "execution_count": 4,
      "outputs": [
        {
          "output_type": "stream",
          "text": [
            "Downloading data from https://storage.googleapis.com/tensorflow/tf-keras-datasets/imdb.npz\n",
            "17465344/17464789 [==============================] - 0s 0us/step\n"
          ],
          "name": "stdout"
        },
        {
          "output_type": "stream",
          "text": [
            "<string>:6: VisibleDeprecationWarning: Creating an ndarray from ragged nested sequences (which is a list-or-tuple of lists-or-tuples-or ndarrays with different lengths or shapes) is deprecated. If you meant to do this, you must specify 'dtype=object' when creating the ndarray\n",
            "/usr/local/lib/python3.7/dist-packages/tensorflow/python/keras/datasets/imdb.py:159: VisibleDeprecationWarning: Creating an ndarray from ragged nested sequences (which is a list-or-tuple of lists-or-tuples-or ndarrays with different lengths or shapes) is deprecated. If you meant to do this, you must specify 'dtype=object' when creating the ndarray\n",
            "  x_train, y_train = np.array(xs[:idx]), np.array(labels[:idx])\n",
            "/usr/local/lib/python3.7/dist-packages/tensorflow/python/keras/datasets/imdb.py:160: VisibleDeprecationWarning: Creating an ndarray from ragged nested sequences (which is a list-or-tuple of lists-or-tuples-or ndarrays with different lengths or shapes) is deprecated. If you meant to do this, you must specify 'dtype=object' when creating the ndarray\n",
            "  x_test, y_test = np.array(xs[idx:]), np.array(labels[idx:])\n"
          ],
          "name": "stderr"
        }
      ]
    },
    {
      "cell_type": "code",
      "metadata": {
        "id": "Ey73phBitv7Y"
      },
      "source": [
        "max_review_length = 500\n",
        "X_train = sequence.pad_sequences(X_train, maxlen=max_review_length)\n",
        "X_test = sequence.pad_sequences(X_test, maxlen=max_review_length)"
      ],
      "execution_count": 5,
      "outputs": []
    },
    {
      "cell_type": "markdown",
      "metadata": {
        "id": "mHZkV2J2t78j"
      },
      "source": [
        "### Lets create the model"
      ]
    },
    {
      "cell_type": "code",
      "metadata": {
        "id": "GYUlrs1ht1Ap"
      },
      "source": [
        "embedding_vecor_length = 32\n",
        "model = Sequential()\n",
        "model.add(Embedding(top_words, embedding_vecor_length, input_length=max_review_length))\n",
        "model.add(Conv1D(filters=32, kernel_size=3, padding='same', activation='relu'))\n",
        "model.add(MaxPooling1D(pool_size=2))\n",
        "model.add(Conv1D(filters=32, kernel_size=3, padding='same', activation='relu'))\n",
        "model.add(LSTM(100))\n",
        "model.add(Dense(1, activation='sigmoid'))\n",
        "model.compile(loss='binary_crossentropy', optimizer='adam', metrics=['accuracy'])"
      ],
      "execution_count": 10,
      "outputs": []
    },
    {
      "cell_type": "code",
      "metadata": {
        "colab": {
          "base_uri": "https://localhost:8080/"
        },
        "id": "cONHBXBSuDce",
        "outputId": "c18dcf45-9309-4b28-fbfd-75b0d0c9ba0d"
      },
      "source": [
        "model.summary()"
      ],
      "execution_count": 11,
      "outputs": [
        {
          "output_type": "stream",
          "text": [
            "Model: \"sequential_1\"\n",
            "_________________________________________________________________\n",
            "Layer (type)                 Output Shape              Param #   \n",
            "=================================================================\n",
            "embedding_1 (Embedding)      (None, 500, 32)           160000    \n",
            "_________________________________________________________________\n",
            "conv1d_1 (Conv1D)            (None, 500, 32)           3104      \n",
            "_________________________________________________________________\n",
            "max_pooling1d_1 (MaxPooling1 (None, 250, 32)           0         \n",
            "_________________________________________________________________\n",
            "conv1d_2 (Conv1D)            (None, 250, 32)           3104      \n",
            "_________________________________________________________________\n",
            "lstm_1 (LSTM)                (None, 100)               53200     \n",
            "_________________________________________________________________\n",
            "dense_1 (Dense)              (None, 1)                 101       \n",
            "=================================================================\n",
            "Total params: 219,509\n",
            "Trainable params: 219,509\n",
            "Non-trainable params: 0\n",
            "_________________________________________________________________\n"
          ],
          "name": "stdout"
        }
      ]
    },
    {
      "cell_type": "code",
      "metadata": {
        "colab": {
          "base_uri": "https://localhost:8080/"
        },
        "id": "22UzxJaXuGhz",
        "outputId": "a9eaa573-5cab-4715-a2ad-860668f722d8"
      },
      "source": [
        "model.fit(X_train, y_train, epochs=50, batch_size=64)"
      ],
      "execution_count": 14,
      "outputs": [
        {
          "output_type": "stream",
          "text": [
            "Epoch 1/50\n",
            "391/391 [==============================] - 7s 19ms/step - loss: 0.1645 - accuracy: 0.9403\n",
            "Epoch 2/50\n",
            "391/391 [==============================] - 7s 19ms/step - loss: 0.1261 - accuracy: 0.9572\n",
            "Epoch 3/50\n",
            "391/391 [==============================] - 7s 19ms/step - loss: 0.1173 - accuracy: 0.9582\n",
            "Epoch 4/50\n",
            "391/391 [==============================] - 7s 19ms/step - loss: 0.0753 - accuracy: 0.9760\n",
            "Epoch 5/50\n",
            "391/391 [==============================] - 7s 19ms/step - loss: 0.0639 - accuracy: 0.9805\n",
            "Epoch 6/50\n",
            "391/391 [==============================] - 7s 19ms/step - loss: 0.0475 - accuracy: 0.9857\n",
            "Epoch 7/50\n",
            "391/391 [==============================] - 8s 19ms/step - loss: 0.0427 - accuracy: 0.9874\n",
            "Epoch 8/50\n",
            "391/391 [==============================] - 7s 19ms/step - loss: 0.0347 - accuracy: 0.9904\n",
            "Epoch 9/50\n",
            "391/391 [==============================] - 7s 19ms/step - loss: 0.0254 - accuracy: 0.9938\n",
            "Epoch 10/50\n",
            "391/391 [==============================] - 8s 20ms/step - loss: 0.0202 - accuracy: 0.9954\n",
            "Epoch 11/50\n",
            "391/391 [==============================] - 8s 20ms/step - loss: 0.0253 - accuracy: 0.9932\n",
            "Epoch 12/50\n",
            "391/391 [==============================] - 7s 19ms/step - loss: 0.0270 - accuracy: 0.9917\n",
            "Epoch 13/50\n",
            "391/391 [==============================] - 7s 19ms/step - loss: 0.0171 - accuracy: 0.9956\n",
            "Epoch 14/50\n",
            "391/391 [==============================] - 7s 19ms/step - loss: 0.0191 - accuracy: 0.9954\n",
            "Epoch 15/50\n",
            "391/391 [==============================] - 7s 18ms/step - loss: 0.0193 - accuracy: 0.9948\n",
            "Epoch 16/50\n",
            "391/391 [==============================] - 7s 19ms/step - loss: 0.0174 - accuracy: 0.9950\n",
            "Epoch 17/50\n",
            "391/391 [==============================] - 7s 19ms/step - loss: 0.0147 - accuracy: 0.9960\n",
            "Epoch 18/50\n",
            "391/391 [==============================] - 7s 18ms/step - loss: 0.0118 - accuracy: 0.9970\n",
            "Epoch 19/50\n",
            "391/391 [==============================] - 7s 19ms/step - loss: 0.0177 - accuracy: 0.9949\n",
            "Epoch 20/50\n",
            "391/391 [==============================] - 7s 19ms/step - loss: 0.0072 - accuracy: 0.9984\n",
            "Epoch 21/50\n",
            "391/391 [==============================] - 7s 19ms/step - loss: 0.0157 - accuracy: 0.9956\n",
            "Epoch 22/50\n",
            "391/391 [==============================] - 7s 19ms/step - loss: 0.0089 - accuracy: 0.9977\n",
            "Epoch 23/50\n",
            "391/391 [==============================] - 7s 19ms/step - loss: 0.0224 - accuracy: 0.9930\n",
            "Epoch 24/50\n",
            "391/391 [==============================] - 7s 19ms/step - loss: 0.0103 - accuracy: 0.9973\n",
            "Epoch 25/50\n",
            "391/391 [==============================] - 7s 18ms/step - loss: 0.0070 - accuracy: 0.9982\n",
            "Epoch 26/50\n",
            "391/391 [==============================] - 7s 18ms/step - loss: 0.0031 - accuracy: 0.9994\n",
            "Epoch 27/50\n",
            "391/391 [==============================] - 7s 19ms/step - loss: 0.0095 - accuracy: 0.9972\n",
            "Epoch 28/50\n",
            "391/391 [==============================] - 7s 19ms/step - loss: 0.0265 - accuracy: 0.9922\n",
            "Epoch 29/50\n",
            "391/391 [==============================] - 7s 19ms/step - loss: 0.0045 - accuracy: 0.9990\n",
            "Epoch 30/50\n",
            "391/391 [==============================] - 7s 18ms/step - loss: 0.0052 - accuracy: 0.9986\n",
            "Epoch 31/50\n",
            "391/391 [==============================] - 7s 18ms/step - loss: 0.0109 - accuracy: 0.9972\n",
            "Epoch 32/50\n",
            "391/391 [==============================] - 7s 18ms/step - loss: 0.0074 - accuracy: 0.9980\n",
            "Epoch 33/50\n",
            "391/391 [==============================] - 7s 18ms/step - loss: 0.0026 - accuracy: 0.9994\n",
            "Epoch 34/50\n",
            "391/391 [==============================] - 7s 19ms/step - loss: 0.0072 - accuracy: 0.9981\n",
            "Epoch 35/50\n",
            "391/391 [==============================] - 7s 19ms/step - loss: 0.0083 - accuracy: 0.9974\n",
            "Epoch 36/50\n",
            "391/391 [==============================] - 7s 18ms/step - loss: 0.0043 - accuracy: 0.9988\n",
            "Epoch 37/50\n",
            "391/391 [==============================] - 7s 18ms/step - loss: 0.0070 - accuracy: 0.9981\n",
            "Epoch 38/50\n",
            "391/391 [==============================] - 7s 19ms/step - loss: 0.0093 - accuracy: 0.9972\n",
            "Epoch 39/50\n",
            "391/391 [==============================] - 7s 18ms/step - loss: 0.0053 - accuracy: 0.9988\n",
            "Epoch 40/50\n",
            "391/391 [==============================] - 7s 18ms/step - loss: 0.0020 - accuracy: 0.9995\n",
            "Epoch 41/50\n",
            "391/391 [==============================] - 7s 18ms/step - loss: 0.0084 - accuracy: 0.9974\n",
            "Epoch 42/50\n",
            "391/391 [==============================] - 7s 19ms/step - loss: 0.0120 - accuracy: 0.9962\n",
            "Epoch 43/50\n",
            "391/391 [==============================] - 7s 18ms/step - loss: 0.0034 - accuracy: 0.9992\n",
            "Epoch 44/50\n",
            "391/391 [==============================] - 7s 18ms/step - loss: 0.0018 - accuracy: 0.9995\n",
            "Epoch 45/50\n",
            "391/391 [==============================] - 7s 18ms/step - loss: 0.0011 - accuracy: 0.9998\n",
            "Epoch 46/50\n",
            "391/391 [==============================] - 7s 19ms/step - loss: 9.8596e-04 - accuracy: 0.9998\n",
            "Epoch 47/50\n",
            "391/391 [==============================] - 7s 19ms/step - loss: 8.0428e-04 - accuracy: 0.9998\n",
            "Epoch 48/50\n",
            "391/391 [==============================] - 7s 19ms/step - loss: 9.6884e-04 - accuracy: 0.9998\n",
            "Epoch 49/50\n",
            "391/391 [==============================] - 7s 18ms/step - loss: 6.8849e-04 - accuracy: 0.9998\n",
            "Epoch 50/50\n",
            "391/391 [==============================] - 7s 18ms/step - loss: 5.7289e-04 - accuracy: 0.9998\n"
          ],
          "name": "stdout"
        },
        {
          "output_type": "execute_result",
          "data": {
            "text/plain": [
              "<tensorflow.python.keras.callbacks.History at 0x7f2987c7e550>"
            ]
          },
          "metadata": {
            "tags": []
          },
          "execution_count": 14
        }
      ]
    },
    {
      "cell_type": "code",
      "metadata": {
        "colab": {
          "base_uri": "https://localhost:8080/"
        },
        "id": "PsmSXtzguMP4",
        "outputId": "279d3494-f8cf-4900-e9a8-900dcd4540dc"
      },
      "source": [
        "scores = model.evaluate(X_test, y_test, verbose=0)\n",
        "print(\"Accuracy: %.2f%%\" % (scores[1]*100))"
      ],
      "execution_count": 15,
      "outputs": [
        {
          "output_type": "stream",
          "text": [
            "Accuracy: 87.08%\n"
          ],
          "name": "stdout"
        }
      ]
    },
    {
      "cell_type": "code",
      "metadata": {
        "id": "bBDcINmSuv3i"
      },
      "source": [
        ""
      ],
      "execution_count": null,
      "outputs": []
    }
  ]
}